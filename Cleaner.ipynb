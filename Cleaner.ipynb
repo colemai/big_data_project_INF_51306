{
 "cells": [
  {
   "cell_type": "code",
   "execution_count": 2,
   "metadata": {},
   "outputs": [],
   "source": [
    "\"\"\"\n",
    "Author: Ian Coleman\n",
    "Purpose: Import and clean CSV data regarding broilers\n",
    "\"\"\"\n",
    "\n",
    "from pyspark import SparkContext\n",
    "from pyspark.sql import SQLContext\n",
    "from pyspark.sql.types import *\n",
    "from datetime import datetime\n",
    "from pyspark.sql.functions import col, udf\n",
    "sqlContext = SQLContext(sc)\n",
    "sc = SparkContext.getOrCreate()\n",
    "\n",
    "\n",
    "conf = (SparkConf()\n",
    " .setMaster(\"local\")\n",
    " .setAppName(\"Cleaner\")\n",
    " .set(\"spark.executor.memory\", \"1g\"))"
   ]
  },
  {
   "cell_type": "code",
   "execution_count": 3,
   "metadata": {},
   "outputs": [
    {
     "name": "stdout",
     "output_type": "stream",
     "text": [
      "Your Python Version: 3.5\n",
      "Your Spark Version: 2.2.0\n"
     ]
    }
   ],
   "source": [
    "#Info on setup\n",
    "\n",
    "#Our Python version was 3.5\n",
    "print('Your Python Version:', sc.pythonVer)\n",
    "#Our SC version was 2.2\n",
    "print('Your Spark Version:', sc.version)\n"
   ]
  },
  {
   "cell_type": "code",
   "execution_count": 4,
   "metadata": {},
   "outputs": [],
   "source": [
    "#Establish DB as data frame\n",
    "df = sqlContext.read.load('FF_broilers_v2.csv', \n",
    "                      format='com.databricks.spark.csv', \n",
    "                      header='true', \n",
    "                      inferSchema='true')"
   ]
  },
  {
   "cell_type": "code",
   "execution_count": 5,
   "metadata": {},
   "outputs": [],
   "source": [
    "#Non-essential stuff, mostly to try out dataFrame manipulation\n",
    "# df.printSchema()\n",
    "# df.show(2, truncate=True)\n",
    "# df.columns\n",
    "# df.describe('Customer Code').show()\n",
    "# df2 = df.withColumnRenamed(\"Body Weight (g)\", 'BodyWeightGrams')\n",
    "# print(type(df))\n",
    "# print(type(df2))\n",
    "# df2.filter(df2.BodyWeightGrams == 44).count()\n",
    "# df2.orderBy(df2.BodyWeightGrams.desc()).show(5)\n",
    "# df2.describe('BodyWeightGrams').show()\n",
    "# output_df.orderBy(output_df.BodyWeightGrams.desc())\n",
    "# output_df = df2.withColumn(\"BodyWeightGrams\",df2[\"BodyWeightGrams\"].cast('float'))\n",
    "# output_df.filter(output_df.BodyWeightGrams.isNotNull()).count()\n",
    "# output_df.select('BodyWeightGrams').show(5)\n",
    "df2 = df.withColumnRenamed(\"Body Weight (g)\", 'BodyWeightGrams')\n",
    "output_df = df2.withColumn(\"BodyWeightGrams\",df2[\"BodyWeightGrams\"].cast('float'))\n",
    "df_cleaned = output_df.filter(output_df.BodyWeightGrams.isNotNull())"
   ]
  },
  {
   "cell_type": "code",
   "execution_count": 6,
   "metadata": {},
   "outputs": [
    {
     "data": {
      "text/plain": [
       "2032"
      ]
     },
     "execution_count": 6,
     "metadata": {},
     "output_type": "execute_result"
    }
   ],
   "source": [
    "#Create var of the db without rows lacking body weight or where body weight == 0\n",
    "df_cleaned.count()"
   ]
  },
  {
   "cell_type": "code",
   "execution_count": 7,
   "metadata": {},
   "outputs": [],
   "source": [
    "csv1 = sqlContext.read.load('test_data.csv',\n",
    "                           format='com.databricks.spark.csv',\n",
    "                           header ='true',\n",
    "                           inferSchema='true')"
   ]
  },
  {
   "cell_type": "code",
   "execution_count": 8,
   "metadata": {},
   "outputs": [
    {
     "name": "stdout",
     "output_type": "stream",
     "text": [
      "+------+----------+------+\n",
      "|Number|      Date|NatNum|\n",
      "+------+----------+------+\n",
      "|     1|   2017-01|   377|\n",
      "|     2|      17-3|      |\n",
      "|     3|17-03-2017|   822|\n",
      "|     4|  Stringer| 1 073|\n",
      "|     5|      null| 1 319|\n",
      "|     6|03-07-2011|Strung|\n",
      "|     7|  03/02/91|  null|\n",
      "+------+----------+------+\n",
      "\n"
     ]
    }
   ],
   "source": [
    "csv1.show()"
   ]
  },
  {
   "cell_type": "code",
   "execution_count": 9,
   "metadata": {},
   "outputs": [
    {
     "name": "stdout",
     "output_type": "stream",
     "text": [
      "+-------+----------+\n",
      "|summary|      Date|\n",
      "+-------+----------+\n",
      "|  count|         6|\n",
      "|   mean|      null|\n",
      "| stddev|      null|\n",
      "|    min|03-07-2011|\n",
      "|    max|  Stringer|\n",
      "+-------+----------+\n",
      "\n"
     ]
    }
   ],
   "source": [
    "csv1.describe('Date').show()"
   ]
  },
  {
   "cell_type": "code",
   "execution_count": 13,
   "metadata": {},
   "outputs": [
    {
     "ename": "TypeError",
     "evalue": "'DataFrame' object is not callable",
     "output_type": "error",
     "traceback": [
      "\u001b[0;31m---------------------------------------------------------------------------\u001b[0m",
      "\u001b[0;31mTypeError\u001b[0m                                 Traceback (most recent call last)",
      "\u001b[0;32m<ipython-input-13-f628029666ac>\u001b[0m in \u001b[0;36m<module>\u001b[0;34m()\u001b[0m\n\u001b[1;32m      1\u001b[0m \u001b[0mfunc\u001b[0m \u001b[0;34m=\u001b[0m \u001b[0;32mlambda\u001b[0m \u001b[0mx\u001b[0m\u001b[0;34m:\u001b[0m \u001b[0mx\u001b[0m\u001b[0;34m.\u001b[0m\u001b[0mreplace\u001b[0m\u001b[0;34m(\u001b[0m\u001b[0;34m'-'\u001b[0m\u001b[0;34m,\u001b[0m \u001b[0;34m''\u001b[0m\u001b[0;34m)\u001b[0m \u001b[0;32mif\u001b[0m \u001b[0mhasattr\u001b[0m\u001b[0;34m(\u001b[0m\u001b[0mx\u001b[0m\u001b[0;34m,\u001b[0m \u001b[0;34m'__len__'\u001b[0m\u001b[0;34m)\u001b[0m \u001b[0;32mand\u001b[0m \u001b[0mlen\u001b[0m\u001b[0;34m(\u001b[0m\u001b[0mx\u001b[0m\u001b[0;34m)\u001b[0m \u001b[0;34m<=\u001b[0m \u001b[0;36m6\u001b[0m \u001b[0;32melse\u001b[0m \u001b[0;32mNone\u001b[0m\u001b[0;34m\u001b[0m\u001b[0m\n\u001b[1;32m      2\u001b[0m \u001b[0;31m# csv1_floats = csv1.withColumn('Date', csv1['Date'].cast('date'))\u001b[0m\u001b[0;34m\u001b[0m\u001b[0;34m\u001b[0m\u001b[0m\n\u001b[0;32m----> 3\u001b[0;31m \u001b[0mcsv1_floats\u001b[0m \u001b[0;34m=\u001b[0m \u001b[0mcsv1\u001b[0m\u001b[0;34m.\u001b[0m\u001b[0mwithColumn\u001b[0m\u001b[0;34m(\u001b[0m\u001b[0;34m'test'\u001b[0m\u001b[0;34m,\u001b[0m \u001b[0mfunc\u001b[0m\u001b[0;34m(\u001b[0m\u001b[0mcsv1\u001b[0m\u001b[0;34m(\u001b[0m\u001b[0;34m'Date'\u001b[0m\u001b[0;34m)\u001b[0m\u001b[0;34m)\u001b[0m\u001b[0;34m)\u001b[0m\u001b[0;34m\u001b[0m\u001b[0m\n\u001b[0m",
      "\u001b[0;31mTypeError\u001b[0m: 'DataFrame' object is not callable"
     ]
    }
   ],
   "source": [
    "func = lambda x: x.replace('-', '') if hasattr(x, '__len__') and len(x) <= 6 else None\n",
    "# csv1_floats = csv1.withColumn('Date', csv1['Date'].cast('date'))\n",
    "csv1_floats = csv1.withColumn('test', func(col('Date')))"
   ]
  },
  {
   "cell_type": "code",
   "execution_count": null,
   "metadata": {},
   "outputs": [],
   "source": [
    "print(type(csv1_floats))\n",
    "csv1_floats.show()"
   ]
  },
  {
   "cell_type": "code",
   "execution_count": null,
   "metadata": {},
   "outputs": [],
   "source": [
    "csv1.show()"
   ]
  },
  {
   "cell_type": "code",
   "execution_count": null,
   "metadata": {},
   "outputs": [],
   "source": []
  }
 ],
 "metadata": {
  "kernelspec": {
   "display_name": "Python 2",
   "language": "python",
   "name": "python2"
  },
  "language_info": {
   "codemirror_mode": {
    "name": "ipython",
    "version": 3
   },
   "file_extension": ".py",
   "mimetype": "text/x-python",
   "name": "python",
   "nbconvert_exporter": "python",
   "pygments_lexer": "ipython3",
   "version": "3.5.2"
  }
 },
 "nbformat": 4,
 "nbformat_minor": 2
}
